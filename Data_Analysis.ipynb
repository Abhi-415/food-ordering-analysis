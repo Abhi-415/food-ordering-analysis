{
 "cells": [
  {
   "cell_type": "code",
   "execution_count": 1,
   "id": "130b7d28-1807-422a-ab00-917ea4cfef14",
   "metadata": {},
   "outputs": [],
   "source": [
    "import pandas as pd\n",
    "import numpy as np\n",
    "import matplotlib.pyplot as plt\n",
    "import seaborn as sns"
   ]
  },
  {
   "cell_type": "code",
   "execution_count": 2,
   "id": "89ab610f-ec68-49a8-b81e-3c376367127b",
   "metadata": {},
   "outputs": [],
   "source": [
    "# Load UserDetails Dataset\n",
    "UserDetails=pd.read_csv(\"UserDetails.csv\")"
   ]
  },
  {
   "cell_type": "code",
   "execution_count": 3,
   "id": "6146eaed-56be-4207-a3e9-6d20f8e270c6",
   "metadata": {},
   "outputs": [
    {
     "data": {
      "text/html": [
       "<div>\n",
       "<style scoped>\n",
       "    .dataframe tbody tr th:only-of-type {\n",
       "        vertical-align: middle;\n",
       "    }\n",
       "\n",
       "    .dataframe tbody tr th {\n",
       "        vertical-align: top;\n",
       "    }\n",
       "\n",
       "    .dataframe thead th {\n",
       "        text-align: right;\n",
       "    }\n",
       "</style>\n",
       "<table border=\"1\" class=\"dataframe\">\n",
       "  <thead>\n",
       "    <tr style=\"text-align: right;\">\n",
       "      <th></th>\n",
       "      <th>User ID</th>\n",
       "      <th>User Name</th>\n",
       "      <th>Age</th>\n",
       "      <th>Location</th>\n",
       "      <th>Registration Date</th>\n",
       "      <th>Phone</th>\n",
       "      <th>Email</th>\n",
       "      <th>Favorite Meal</th>\n",
       "      <th>Total Orders</th>\n",
       "    </tr>\n",
       "  </thead>\n",
       "  <tbody>\n",
       "    <tr>\n",
       "      <th>0</th>\n",
       "      <td>U001</td>\n",
       "      <td>Alice Johnson</td>\n",
       "      <td>28</td>\n",
       "      <td>New York</td>\n",
       "      <td>2023-01-15</td>\n",
       "      <td>123-456-7890</td>\n",
       "      <td>alice@email.com</td>\n",
       "      <td>Dinner</td>\n",
       "      <td>12</td>\n",
       "    </tr>\n",
       "    <tr>\n",
       "      <th>1</th>\n",
       "      <td>U002</td>\n",
       "      <td>Bob Smith</td>\n",
       "      <td>35</td>\n",
       "      <td>Los Angeles</td>\n",
       "      <td>2023-02-20</td>\n",
       "      <td>987-654-3210</td>\n",
       "      <td>bob@email.com</td>\n",
       "      <td>Lunch</td>\n",
       "      <td>8</td>\n",
       "    </tr>\n",
       "    <tr>\n",
       "      <th>2</th>\n",
       "      <td>U003</td>\n",
       "      <td>Charlie Lee</td>\n",
       "      <td>42</td>\n",
       "      <td>Chicago</td>\n",
       "      <td>2023-03-10</td>\n",
       "      <td>555-123-4567</td>\n",
       "      <td>charlie@email.com</td>\n",
       "      <td>Breakfast</td>\n",
       "      <td>15</td>\n",
       "    </tr>\n",
       "    <tr>\n",
       "      <th>3</th>\n",
       "      <td>U004</td>\n",
       "      <td>David Brown</td>\n",
       "      <td>27</td>\n",
       "      <td>San Francisco</td>\n",
       "      <td>2023-04-05</td>\n",
       "      <td>444-333-2222</td>\n",
       "      <td>david@email.com</td>\n",
       "      <td>Dinner</td>\n",
       "      <td>10</td>\n",
       "    </tr>\n",
       "    <tr>\n",
       "      <th>4</th>\n",
       "      <td>U005</td>\n",
       "      <td>Emma White</td>\n",
       "      <td>30</td>\n",
       "      <td>Seattle</td>\n",
       "      <td>2023-05-22</td>\n",
       "      <td>777-888-9999</td>\n",
       "      <td>emma@email.com</td>\n",
       "      <td>Lunch</td>\n",
       "      <td>9</td>\n",
       "    </tr>\n",
       "    <tr>\n",
       "      <th>5</th>\n",
       "      <td>U006</td>\n",
       "      <td>Frank Green</td>\n",
       "      <td>25</td>\n",
       "      <td>Austin</td>\n",
       "      <td>2023-06-15</td>\n",
       "      <td>888-777-6666</td>\n",
       "      <td>frank@email.com</td>\n",
       "      <td>Dinner</td>\n",
       "      <td>7</td>\n",
       "    </tr>\n",
       "    <tr>\n",
       "      <th>6</th>\n",
       "      <td>U007</td>\n",
       "      <td>Grace King</td>\n",
       "      <td>38</td>\n",
       "      <td>Boston</td>\n",
       "      <td>2023-07-02</td>\n",
       "      <td>999-888-7777</td>\n",
       "      <td>grace@email.com</td>\n",
       "      <td>Breakfast</td>\n",
       "      <td>14</td>\n",
       "    </tr>\n",
       "    <tr>\n",
       "      <th>7</th>\n",
       "      <td>U008</td>\n",
       "      <td>Henry Lee</td>\n",
       "      <td>31</td>\n",
       "      <td>Miami</td>\n",
       "      <td>2023-08-11</td>\n",
       "      <td>101-202-3030</td>\n",
       "      <td>henry@email.com</td>\n",
       "      <td>Dinner</td>\n",
       "      <td>5</td>\n",
       "    </tr>\n",
       "    <tr>\n",
       "      <th>8</th>\n",
       "      <td>U009</td>\n",
       "      <td>Irene Moore</td>\n",
       "      <td>33</td>\n",
       "      <td>Dallas</td>\n",
       "      <td>2023-09-01</td>\n",
       "      <td>202-303-4040</td>\n",
       "      <td>irene@email.com</td>\n",
       "      <td>Lunch</td>\n",
       "      <td>6</td>\n",
       "    </tr>\n",
       "    <tr>\n",
       "      <th>9</th>\n",
       "      <td>U010</td>\n",
       "      <td>Jack White</td>\n",
       "      <td>29</td>\n",
       "      <td>Phoenix</td>\n",
       "      <td>2023-10-10</td>\n",
       "      <td>303-404-5050</td>\n",
       "      <td>jack@email.com</td>\n",
       "      <td>Dinner</td>\n",
       "      <td>8</td>\n",
       "    </tr>\n",
       "  </tbody>\n",
       "</table>\n",
       "</div>"
      ],
      "text/plain": [
       "  User ID      User Name  Age       Location Registration Date         Phone  \\\n",
       "0    U001  Alice Johnson   28       New York        2023-01-15  123-456-7890   \n",
       "1    U002      Bob Smith   35    Los Angeles        2023-02-20  987-654-3210   \n",
       "2    U003    Charlie Lee   42        Chicago        2023-03-10  555-123-4567   \n",
       "3    U004    David Brown   27  San Francisco        2023-04-05  444-333-2222   \n",
       "4    U005     Emma White   30        Seattle        2023-05-22  777-888-9999   \n",
       "5    U006    Frank Green   25         Austin        2023-06-15  888-777-6666   \n",
       "6    U007     Grace King   38         Boston        2023-07-02  999-888-7777   \n",
       "7    U008      Henry Lee   31          Miami        2023-08-11  101-202-3030   \n",
       "8    U009    Irene Moore   33         Dallas        2023-09-01  202-303-4040   \n",
       "9    U010     Jack White   29        Phoenix        2023-10-10  303-404-5050   \n",
       "\n",
       "               Email Favorite Meal  Total Orders  \n",
       "0    alice@email.com        Dinner            12  \n",
       "1      bob@email.com         Lunch             8  \n",
       "2  charlie@email.com     Breakfast            15  \n",
       "3    david@email.com        Dinner            10  \n",
       "4     emma@email.com         Lunch             9  \n",
       "5    frank@email.com        Dinner             7  \n",
       "6    grace@email.com     Breakfast            14  \n",
       "7    henry@email.com        Dinner             5  \n",
       "8    irene@email.com         Lunch             6  \n",
       "9     jack@email.com        Dinner             8  "
      ]
     },
     "execution_count": 3,
     "metadata": {},
     "output_type": "execute_result"
    }
   ],
   "source": [
    "UserDetails"
   ]
  },
  {
   "cell_type": "code",
   "execution_count": 4,
   "id": "f222f2ea-6829-46e4-806b-39a64aa7adad",
   "metadata": {},
   "outputs": [
    {
     "data": {
      "text/plain": [
       "User ID              object\n",
       "User Name            object\n",
       "Age                   int64\n",
       "Location             object\n",
       "Registration Date    object\n",
       "Phone                object\n",
       "Email                object\n",
       "Favorite Meal        object\n",
       "Total Orders          int64\n",
       "dtype: object"
      ]
     },
     "execution_count": 4,
     "metadata": {},
     "output_type": "execute_result"
    }
   ],
   "source": [
    "#Check the datatypes\n",
    "UserDetails.dtypes"
   ]
  },
  {
   "cell_type": "code",
   "execution_count": 5,
   "id": "2bf5708f-ed33-4e45-8686-305e044b6486",
   "metadata": {},
   "outputs": [],
   "source": [
    "#Convert the Registration Date datatype to datetime\n",
    "UserDetails[\"Registration Date\"]=pd.to_datetime(UserDetails[\"Registration Date\"],format='%Y-%m-%d', errors='coerce')"
   ]
  },
  {
   "cell_type": "code",
   "execution_count": 6,
   "id": "4350cbe6-5a53-4271-b775-ad0dfc70c25e",
   "metadata": {},
   "outputs": [
    {
     "name": "stdout",
     "output_type": "stream",
     "text": [
      "<class 'pandas.core.frame.DataFrame'>\n",
      "RangeIndex: 10 entries, 0 to 9\n",
      "Data columns (total 9 columns):\n",
      " #   Column             Non-Null Count  Dtype         \n",
      "---  ------             --------------  -----         \n",
      " 0   User ID            10 non-null     object        \n",
      " 1   User Name          10 non-null     object        \n",
      " 2   Age                10 non-null     int64         \n",
      " 3   Location           10 non-null     object        \n",
      " 4   Registration Date  10 non-null     datetime64[ns]\n",
      " 5   Phone              10 non-null     object        \n",
      " 6   Email              10 non-null     object        \n",
      " 7   Favorite Meal      10 non-null     object        \n",
      " 8   Total Orders       10 non-null     int64         \n",
      "dtypes: datetime64[ns](1), int64(2), object(6)\n",
      "memory usage: 852.0+ bytes\n"
     ]
    }
   ],
   "source": [
    "UserDetails.info()"
   ]
  },
  {
   "cell_type": "code",
   "execution_count": 7,
   "id": "cec29eec-c094-436a-9380-699671d59347",
   "metadata": {},
   "outputs": [
    {
     "data": {
      "text/plain": [
       "User ID              0\n",
       "User Name            0\n",
       "Age                  0\n",
       "Location             0\n",
       "Registration Date    0\n",
       "Phone                0\n",
       "Email                0\n",
       "Favorite Meal        0\n",
       "Total Orders         0\n",
       "dtype: int64"
      ]
     },
     "execution_count": 7,
     "metadata": {},
     "output_type": "execute_result"
    }
   ],
   "source": [
    "# check for null values\n",
    "UserDetails.isnull().sum()"
   ]
  },
  {
   "cell_type": "code",
   "execution_count": 8,
   "id": "8f3bf449-4667-492d-bd96-77b1bee95bed",
   "metadata": {},
   "outputs": [],
   "source": [
    "# load CookingSession Dataset\n",
    "CookingSessions=pd.read_csv(\"CookingSessions.csv\")"
   ]
  },
  {
   "cell_type": "code",
   "execution_count": 9,
   "id": "e52a2e20-22df-49af-ba47-5ec5354db014",
   "metadata": {},
   "outputs": [
    {
     "data": {
      "text/html": [
       "<div>\n",
       "<style scoped>\n",
       "    .dataframe tbody tr th:only-of-type {\n",
       "        vertical-align: middle;\n",
       "    }\n",
       "\n",
       "    .dataframe tbody tr th {\n",
       "        vertical-align: top;\n",
       "    }\n",
       "\n",
       "    .dataframe thead th {\n",
       "        text-align: right;\n",
       "    }\n",
       "</style>\n",
       "<table border=\"1\" class=\"dataframe\">\n",
       "  <thead>\n",
       "    <tr style=\"text-align: right;\">\n",
       "      <th></th>\n",
       "      <th>Session ID</th>\n",
       "      <th>User ID</th>\n",
       "      <th>Dish Name</th>\n",
       "      <th>Meal Type</th>\n",
       "      <th>Session Start</th>\n",
       "      <th>Session End</th>\n",
       "      <th>Duration (mins)</th>\n",
       "      <th>Session Rating</th>\n",
       "    </tr>\n",
       "  </thead>\n",
       "  <tbody>\n",
       "    <tr>\n",
       "      <th>0</th>\n",
       "      <td>S001</td>\n",
       "      <td>U001</td>\n",
       "      <td>Spaghetti</td>\n",
       "      <td>Dinner</td>\n",
       "      <td>2024-12-01 19:00</td>\n",
       "      <td>2024-12-01 19:30</td>\n",
       "      <td>30</td>\n",
       "      <td>4.5</td>\n",
       "    </tr>\n",
       "    <tr>\n",
       "      <th>1</th>\n",
       "      <td>S002</td>\n",
       "      <td>U002</td>\n",
       "      <td>Caesar Salad</td>\n",
       "      <td>Lunch</td>\n",
       "      <td>2024-12-01 12:00</td>\n",
       "      <td>2024-12-01 12:20</td>\n",
       "      <td>20</td>\n",
       "      <td>4.0</td>\n",
       "    </tr>\n",
       "    <tr>\n",
       "      <th>2</th>\n",
       "      <td>S003</td>\n",
       "      <td>U003</td>\n",
       "      <td>Grilled Chicken</td>\n",
       "      <td>Dinner</td>\n",
       "      <td>2024-12-02 19:30</td>\n",
       "      <td>2024-12-02 20:10</td>\n",
       "      <td>40</td>\n",
       "      <td>4.8</td>\n",
       "    </tr>\n",
       "    <tr>\n",
       "      <th>3</th>\n",
       "      <td>S004</td>\n",
       "      <td>U001</td>\n",
       "      <td>Pancakes</td>\n",
       "      <td>Breakfast</td>\n",
       "      <td>2024-12-02 07:30</td>\n",
       "      <td>2024-12-02 08:00</td>\n",
       "      <td>30</td>\n",
       "      <td>4.2</td>\n",
       "    </tr>\n",
       "    <tr>\n",
       "      <th>4</th>\n",
       "      <td>S005</td>\n",
       "      <td>U004</td>\n",
       "      <td>Caesar Salad</td>\n",
       "      <td>Lunch</td>\n",
       "      <td>2024-12-03 13:00</td>\n",
       "      <td>2024-12-03 13:15</td>\n",
       "      <td>15</td>\n",
       "      <td>4.7</td>\n",
       "    </tr>\n",
       "    <tr>\n",
       "      <th>5</th>\n",
       "      <td>S006</td>\n",
       "      <td>U002</td>\n",
       "      <td>Spaghetti</td>\n",
       "      <td>Dinner</td>\n",
       "      <td>2024-12-03 18:30</td>\n",
       "      <td>2024-12-03 19:00</td>\n",
       "      <td>30</td>\n",
       "      <td>4.3</td>\n",
       "    </tr>\n",
       "    <tr>\n",
       "      <th>6</th>\n",
       "      <td>S007</td>\n",
       "      <td>U005</td>\n",
       "      <td>Grilled Chicken</td>\n",
       "      <td>Dinner</td>\n",
       "      <td>2024-12-04 18:00</td>\n",
       "      <td>2024-12-04 18:45</td>\n",
       "      <td>45</td>\n",
       "      <td>4.6</td>\n",
       "    </tr>\n",
       "    <tr>\n",
       "      <th>7</th>\n",
       "      <td>S008</td>\n",
       "      <td>U003</td>\n",
       "      <td>Veggie Burger</td>\n",
       "      <td>Lunch</td>\n",
       "      <td>2024-12-04 13:30</td>\n",
       "      <td>2024-12-04 13:50</td>\n",
       "      <td>20</td>\n",
       "      <td>4.4</td>\n",
       "    </tr>\n",
       "    <tr>\n",
       "      <th>8</th>\n",
       "      <td>S009</td>\n",
       "      <td>U001</td>\n",
       "      <td>Grilled Chicken</td>\n",
       "      <td>Dinner</td>\n",
       "      <td>2024-12-05 19:00</td>\n",
       "      <td>2024-12-05 19:40</td>\n",
       "      <td>40</td>\n",
       "      <td>4.9</td>\n",
       "    </tr>\n",
       "    <tr>\n",
       "      <th>9</th>\n",
       "      <td>S010</td>\n",
       "      <td>U002</td>\n",
       "      <td>Oatmeal</td>\n",
       "      <td>Breakfast</td>\n",
       "      <td>2024-12-05 07:00</td>\n",
       "      <td>2024-12-05 07:10</td>\n",
       "      <td>10</td>\n",
       "      <td>4.1</td>\n",
       "    </tr>\n",
       "    <tr>\n",
       "      <th>10</th>\n",
       "      <td>S011</td>\n",
       "      <td>U003</td>\n",
       "      <td>Pancakes</td>\n",
       "      <td>Breakfast</td>\n",
       "      <td>2024-12-06 08:00</td>\n",
       "      <td>2024-12-06 08:30</td>\n",
       "      <td>30</td>\n",
       "      <td>4.6</td>\n",
       "    </tr>\n",
       "    <tr>\n",
       "      <th>11</th>\n",
       "      <td>S012</td>\n",
       "      <td>U004</td>\n",
       "      <td>Spaghetti</td>\n",
       "      <td>Dinner</td>\n",
       "      <td>2024-12-06 19:00</td>\n",
       "      <td>2024-12-06 19:40</td>\n",
       "      <td>40</td>\n",
       "      <td>4.7</td>\n",
       "    </tr>\n",
       "    <tr>\n",
       "      <th>12</th>\n",
       "      <td>S013</td>\n",
       "      <td>U005</td>\n",
       "      <td>Caesar Salad</td>\n",
       "      <td>Lunch</td>\n",
       "      <td>2024-12-07 12:30</td>\n",
       "      <td>2024-12-07 13:00</td>\n",
       "      <td>30</td>\n",
       "      <td>4.4</td>\n",
       "    </tr>\n",
       "    <tr>\n",
       "      <th>13</th>\n",
       "      <td>S014</td>\n",
       "      <td>U006</td>\n",
       "      <td>Grilled Chicken</td>\n",
       "      <td>Dinner</td>\n",
       "      <td>2024-12-07 18:00</td>\n",
       "      <td>2024-12-07 18:45</td>\n",
       "      <td>45</td>\n",
       "      <td>4.8</td>\n",
       "    </tr>\n",
       "    <tr>\n",
       "      <th>14</th>\n",
       "      <td>S015</td>\n",
       "      <td>U007</td>\n",
       "      <td>Spaghetti</td>\n",
       "      <td>Dinner</td>\n",
       "      <td>2024-12-08 19:30</td>\n",
       "      <td>2024-12-08 20:10</td>\n",
       "      <td>40</td>\n",
       "      <td>5.0</td>\n",
       "    </tr>\n",
       "    <tr>\n",
       "      <th>15</th>\n",
       "      <td>S016</td>\n",
       "      <td>U008</td>\n",
       "      <td>Veggie Burger</td>\n",
       "      <td>Lunch</td>\n",
       "      <td>2024-12-08 13:30</td>\n",
       "      <td>2024-12-08 13:50</td>\n",
       "      <td>20</td>\n",
       "      <td>4.3</td>\n",
       "    </tr>\n",
       "  </tbody>\n",
       "</table>\n",
       "</div>"
      ],
      "text/plain": [
       "   Session ID User ID        Dish Name  Meal Type     Session Start  \\\n",
       "0        S001    U001        Spaghetti     Dinner  2024-12-01 19:00   \n",
       "1        S002    U002     Caesar Salad      Lunch  2024-12-01 12:00   \n",
       "2        S003    U003  Grilled Chicken     Dinner  2024-12-02 19:30   \n",
       "3        S004    U001         Pancakes  Breakfast  2024-12-02 07:30   \n",
       "4        S005    U004     Caesar Salad      Lunch  2024-12-03 13:00   \n",
       "5        S006    U002        Spaghetti     Dinner  2024-12-03 18:30   \n",
       "6        S007    U005  Grilled Chicken     Dinner  2024-12-04 18:00   \n",
       "7        S008    U003    Veggie Burger      Lunch  2024-12-04 13:30   \n",
       "8        S009    U001  Grilled Chicken     Dinner  2024-12-05 19:00   \n",
       "9        S010    U002          Oatmeal  Breakfast  2024-12-05 07:00   \n",
       "10       S011    U003         Pancakes  Breakfast  2024-12-06 08:00   \n",
       "11       S012    U004        Spaghetti     Dinner  2024-12-06 19:00   \n",
       "12       S013    U005     Caesar Salad      Lunch  2024-12-07 12:30   \n",
       "13       S014    U006  Grilled Chicken     Dinner  2024-12-07 18:00   \n",
       "14       S015    U007        Spaghetti     Dinner  2024-12-08 19:30   \n",
       "15       S016    U008    Veggie Burger      Lunch  2024-12-08 13:30   \n",
       "\n",
       "         Session End  Duration (mins)  Session Rating  \n",
       "0   2024-12-01 19:30               30             4.5  \n",
       "1   2024-12-01 12:20               20             4.0  \n",
       "2   2024-12-02 20:10               40             4.8  \n",
       "3   2024-12-02 08:00               30             4.2  \n",
       "4   2024-12-03 13:15               15             4.7  \n",
       "5   2024-12-03 19:00               30             4.3  \n",
       "6   2024-12-04 18:45               45             4.6  \n",
       "7   2024-12-04 13:50               20             4.4  \n",
       "8   2024-12-05 19:40               40             4.9  \n",
       "9   2024-12-05 07:10               10             4.1  \n",
       "10  2024-12-06 08:30               30             4.6  \n",
       "11  2024-12-06 19:40               40             4.7  \n",
       "12  2024-12-07 13:00               30             4.4  \n",
       "13  2024-12-07 18:45               45             4.8  \n",
       "14  2024-12-08 20:10               40             5.0  \n",
       "15  2024-12-08 13:50               20             4.3  "
      ]
     },
     "execution_count": 9,
     "metadata": {},
     "output_type": "execute_result"
    }
   ],
   "source": [
    "CookingSessions"
   ]
  },
  {
   "cell_type": "code",
   "execution_count": 10,
   "id": "22282ec1-7e6d-422e-98cc-ee341032f570",
   "metadata": {},
   "outputs": [
    {
     "data": {
      "text/plain": [
       "Session ID          object\n",
       "User ID             object\n",
       "Dish Name           object\n",
       "Meal Type           object\n",
       "Session Start       object\n",
       "Session End         object\n",
       "Duration (mins)      int64\n",
       "Session Rating     float64\n",
       "dtype: object"
      ]
     },
     "execution_count": 10,
     "metadata": {},
     "output_type": "execute_result"
    }
   ],
   "source": [
    "#Check the datatype of the dataset\n",
    "CookingSessions.dtypes"
   ]
  },
  {
   "cell_type": "code",
   "execution_count": 11,
   "id": "aa0b1223-901f-408d-8812-19a51e0aa6cd",
   "metadata": {},
   "outputs": [],
   "source": [
    "# Convert Session Start and Session End datatype to datetime\n",
    "CookingSessions[\"Session Start\"]=pd.to_datetime(CookingSessions[\"Session Start\"],errors='coerce')"
   ]
  },
  {
   "cell_type": "code",
   "execution_count": 12,
   "id": "c3dcf99a-5eca-40fe-ac3e-99e7f46eb29c",
   "metadata": {},
   "outputs": [],
   "source": [
    "CookingSessions[\"Session End\"]=pd.to_datetime(CookingSessions[\"Session End\"],errors='coerce')"
   ]
  },
  {
   "cell_type": "code",
   "execution_count": 13,
   "id": "2848a423-802a-4b08-97a4-4cdfae44cf62",
   "metadata": {},
   "outputs": [
    {
     "data": {
      "text/plain": [
       "Session ID                 object\n",
       "User ID                    object\n",
       "Dish Name                  object\n",
       "Meal Type                  object\n",
       "Session Start      datetime64[ns]\n",
       "Session End        datetime64[ns]\n",
       "Duration (mins)             int64\n",
       "Session Rating            float64\n",
       "dtype: object"
      ]
     },
     "execution_count": 13,
     "metadata": {},
     "output_type": "execute_result"
    }
   ],
   "source": [
    "CookingSessions.dtypes"
   ]
  },
  {
   "cell_type": "code",
   "execution_count": 14,
   "id": "641cd687-c93b-4b7f-9bec-a72c369099a7",
   "metadata": {},
   "outputs": [
    {
     "data": {
      "text/plain": [
       "Session ID         0\n",
       "User ID            0\n",
       "Dish Name          0\n",
       "Meal Type          0\n",
       "Session Start      0\n",
       "Session End        0\n",
       "Duration (mins)    0\n",
       "Session Rating     0\n",
       "dtype: int64"
      ]
     },
     "execution_count": 14,
     "metadata": {},
     "output_type": "execute_result"
    }
   ],
   "source": [
    "#Check null values in dataset\n",
    "CookingSessions.isnull().sum()"
   ]
  },
  {
   "cell_type": "code",
   "execution_count": 15,
   "id": "3051c5aa-c5e5-4a97-aab3-41e350ce8e15",
   "metadata": {},
   "outputs": [],
   "source": [
    "#Load the OrderDetails Dataset\n",
    "OrderDetails=pd.read_csv(\"OrderDetails.csv\")"
   ]
  },
  {
   "cell_type": "code",
   "execution_count": 16,
   "id": "85fcac4c-fe9a-4a9e-9a12-16e6295e02b8",
   "metadata": {},
   "outputs": [
    {
     "data": {
      "text/html": [
       "<div>\n",
       "<style scoped>\n",
       "    .dataframe tbody tr th:only-of-type {\n",
       "        vertical-align: middle;\n",
       "    }\n",
       "\n",
       "    .dataframe tbody tr th {\n",
       "        vertical-align: top;\n",
       "    }\n",
       "\n",
       "    .dataframe thead th {\n",
       "        text-align: right;\n",
       "    }\n",
       "</style>\n",
       "<table border=\"1\" class=\"dataframe\">\n",
       "  <thead>\n",
       "    <tr style=\"text-align: right;\">\n",
       "      <th></th>\n",
       "      <th>Order ID</th>\n",
       "      <th>User ID</th>\n",
       "      <th>Order Date</th>\n",
       "      <th>Meal Type</th>\n",
       "      <th>Dish Name</th>\n",
       "      <th>Order Status</th>\n",
       "      <th>Amount (USD)</th>\n",
       "      <th>Time of Day</th>\n",
       "      <th>Rating</th>\n",
       "      <th>Session ID</th>\n",
       "    </tr>\n",
       "  </thead>\n",
       "  <tbody>\n",
       "    <tr>\n",
       "      <th>0</th>\n",
       "      <td>1001</td>\n",
       "      <td>U001</td>\n",
       "      <td>2024-12-01</td>\n",
       "      <td>Dinner</td>\n",
       "      <td>Spaghetti</td>\n",
       "      <td>Completed</td>\n",
       "      <td>15.0</td>\n",
       "      <td>Night</td>\n",
       "      <td>5.0</td>\n",
       "      <td>S001</td>\n",
       "    </tr>\n",
       "    <tr>\n",
       "      <th>1</th>\n",
       "      <td>1002</td>\n",
       "      <td>U002</td>\n",
       "      <td>2024-12-01</td>\n",
       "      <td>Lunch</td>\n",
       "      <td>Caesar Salad</td>\n",
       "      <td>Completed</td>\n",
       "      <td>10.0</td>\n",
       "      <td>Day</td>\n",
       "      <td>4.0</td>\n",
       "      <td>S002</td>\n",
       "    </tr>\n",
       "    <tr>\n",
       "      <th>2</th>\n",
       "      <td>1003</td>\n",
       "      <td>U003</td>\n",
       "      <td>2024-12-02</td>\n",
       "      <td>Dinner</td>\n",
       "      <td>Grilled Chicken</td>\n",
       "      <td>Canceled</td>\n",
       "      <td>12.5</td>\n",
       "      <td>Night</td>\n",
       "      <td>NaN</td>\n",
       "      <td>S003</td>\n",
       "    </tr>\n",
       "    <tr>\n",
       "      <th>3</th>\n",
       "      <td>1004</td>\n",
       "      <td>U001</td>\n",
       "      <td>2024-12-02</td>\n",
       "      <td>Breakfast</td>\n",
       "      <td>Pancakes</td>\n",
       "      <td>Completed</td>\n",
       "      <td>8.0</td>\n",
       "      <td>Morning</td>\n",
       "      <td>4.0</td>\n",
       "      <td>S004</td>\n",
       "    </tr>\n",
       "    <tr>\n",
       "      <th>4</th>\n",
       "      <td>1005</td>\n",
       "      <td>U004</td>\n",
       "      <td>2024-12-03</td>\n",
       "      <td>Lunch</td>\n",
       "      <td>Caesar Salad</td>\n",
       "      <td>Completed</td>\n",
       "      <td>9.0</td>\n",
       "      <td>Day</td>\n",
       "      <td>4.0</td>\n",
       "      <td>S005</td>\n",
       "    </tr>\n",
       "    <tr>\n",
       "      <th>5</th>\n",
       "      <td>1006</td>\n",
       "      <td>U002</td>\n",
       "      <td>2024-12-03</td>\n",
       "      <td>Dinner</td>\n",
       "      <td>Spaghetti</td>\n",
       "      <td>Completed</td>\n",
       "      <td>14.0</td>\n",
       "      <td>Night</td>\n",
       "      <td>4.0</td>\n",
       "      <td>S006</td>\n",
       "    </tr>\n",
       "    <tr>\n",
       "      <th>6</th>\n",
       "      <td>1007</td>\n",
       "      <td>U005</td>\n",
       "      <td>2024-12-04</td>\n",
       "      <td>Dinner</td>\n",
       "      <td>Grilled Chicken</td>\n",
       "      <td>Completed</td>\n",
       "      <td>13.5</td>\n",
       "      <td>Night</td>\n",
       "      <td>4.0</td>\n",
       "      <td>S007</td>\n",
       "    </tr>\n",
       "    <tr>\n",
       "      <th>7</th>\n",
       "      <td>1008</td>\n",
       "      <td>U003</td>\n",
       "      <td>2024-12-04</td>\n",
       "      <td>Lunch</td>\n",
       "      <td>Veggie Burger</td>\n",
       "      <td>Canceled</td>\n",
       "      <td>11.0</td>\n",
       "      <td>Day</td>\n",
       "      <td>NaN</td>\n",
       "      <td>S008</td>\n",
       "    </tr>\n",
       "    <tr>\n",
       "      <th>8</th>\n",
       "      <td>1009</td>\n",
       "      <td>U001</td>\n",
       "      <td>2024-12-05</td>\n",
       "      <td>Dinner</td>\n",
       "      <td>Grilled Chicken</td>\n",
       "      <td>Completed</td>\n",
       "      <td>12.0</td>\n",
       "      <td>Night</td>\n",
       "      <td>5.0</td>\n",
       "      <td>S009</td>\n",
       "    </tr>\n",
       "    <tr>\n",
       "      <th>9</th>\n",
       "      <td>1010</td>\n",
       "      <td>U002</td>\n",
       "      <td>2024-12-05</td>\n",
       "      <td>Breakfast</td>\n",
       "      <td>Oatmeal</td>\n",
       "      <td>Completed</td>\n",
       "      <td>7.0</td>\n",
       "      <td>Morning</td>\n",
       "      <td>4.0</td>\n",
       "      <td>S010</td>\n",
       "    </tr>\n",
       "    <tr>\n",
       "      <th>10</th>\n",
       "      <td>1011</td>\n",
       "      <td>U003</td>\n",
       "      <td>2024-12-06</td>\n",
       "      <td>Breakfast</td>\n",
       "      <td>Pancakes</td>\n",
       "      <td>Completed</td>\n",
       "      <td>8.5</td>\n",
       "      <td>Morning</td>\n",
       "      <td>4.0</td>\n",
       "      <td>S011</td>\n",
       "    </tr>\n",
       "    <tr>\n",
       "      <th>11</th>\n",
       "      <td>1012</td>\n",
       "      <td>U004</td>\n",
       "      <td>2024-12-06</td>\n",
       "      <td>Dinner</td>\n",
       "      <td>Spaghetti</td>\n",
       "      <td>Completed</td>\n",
       "      <td>12.5</td>\n",
       "      <td>Night</td>\n",
       "      <td>4.0</td>\n",
       "      <td>S012</td>\n",
       "    </tr>\n",
       "    <tr>\n",
       "      <th>12</th>\n",
       "      <td>1013</td>\n",
       "      <td>U005</td>\n",
       "      <td>2024-12-07</td>\n",
       "      <td>Lunch</td>\n",
       "      <td>Caesar Salad</td>\n",
       "      <td>Completed</td>\n",
       "      <td>9.0</td>\n",
       "      <td>Day</td>\n",
       "      <td>4.0</td>\n",
       "      <td>S013</td>\n",
       "    </tr>\n",
       "    <tr>\n",
       "      <th>13</th>\n",
       "      <td>1014</td>\n",
       "      <td>U006</td>\n",
       "      <td>2024-12-07</td>\n",
       "      <td>Dinner</td>\n",
       "      <td>Grilled Chicken</td>\n",
       "      <td>Completed</td>\n",
       "      <td>13.0</td>\n",
       "      <td>Night</td>\n",
       "      <td>5.0</td>\n",
       "      <td>S014</td>\n",
       "    </tr>\n",
       "    <tr>\n",
       "      <th>14</th>\n",
       "      <td>1015</td>\n",
       "      <td>U007</td>\n",
       "      <td>2024-12-08</td>\n",
       "      <td>Dinner</td>\n",
       "      <td>Spaghetti</td>\n",
       "      <td>Completed</td>\n",
       "      <td>14.0</td>\n",
       "      <td>Night</td>\n",
       "      <td>5.0</td>\n",
       "      <td>S015</td>\n",
       "    </tr>\n",
       "    <tr>\n",
       "      <th>15</th>\n",
       "      <td>1016</td>\n",
       "      <td>U008</td>\n",
       "      <td>2024-12-08</td>\n",
       "      <td>Lunch</td>\n",
       "      <td>Veggie Burger</td>\n",
       "      <td>Completed</td>\n",
       "      <td>11.0</td>\n",
       "      <td>Day</td>\n",
       "      <td>4.0</td>\n",
       "      <td>S016</td>\n",
       "    </tr>\n",
       "  </tbody>\n",
       "</table>\n",
       "</div>"
      ],
      "text/plain": [
       "    Order ID User ID  Order Date  Meal Type        Dish Name Order Status  \\\n",
       "0       1001    U001  2024-12-01     Dinner        Spaghetti    Completed   \n",
       "1       1002    U002  2024-12-01      Lunch     Caesar Salad    Completed   \n",
       "2       1003    U003  2024-12-02     Dinner  Grilled Chicken     Canceled   \n",
       "3       1004    U001  2024-12-02  Breakfast         Pancakes    Completed   \n",
       "4       1005    U004  2024-12-03      Lunch     Caesar Salad    Completed   \n",
       "5       1006    U002  2024-12-03     Dinner        Spaghetti    Completed   \n",
       "6       1007    U005  2024-12-04     Dinner  Grilled Chicken    Completed   \n",
       "7       1008    U003  2024-12-04      Lunch    Veggie Burger     Canceled   \n",
       "8       1009    U001  2024-12-05     Dinner  Grilled Chicken    Completed   \n",
       "9       1010    U002  2024-12-05  Breakfast          Oatmeal    Completed   \n",
       "10      1011    U003  2024-12-06  Breakfast         Pancakes    Completed   \n",
       "11      1012    U004  2024-12-06     Dinner        Spaghetti    Completed   \n",
       "12      1013    U005  2024-12-07      Lunch     Caesar Salad    Completed   \n",
       "13      1014    U006  2024-12-07     Dinner  Grilled Chicken    Completed   \n",
       "14      1015    U007  2024-12-08     Dinner        Spaghetti    Completed   \n",
       "15      1016    U008  2024-12-08      Lunch    Veggie Burger    Completed   \n",
       "\n",
       "    Amount (USD) Time of Day  Rating Session ID  \n",
       "0           15.0       Night     5.0       S001  \n",
       "1           10.0         Day     4.0       S002  \n",
       "2           12.5       Night     NaN       S003  \n",
       "3            8.0     Morning     4.0       S004  \n",
       "4            9.0         Day     4.0       S005  \n",
       "5           14.0       Night     4.0       S006  \n",
       "6           13.5       Night     4.0       S007  \n",
       "7           11.0         Day     NaN       S008  \n",
       "8           12.0       Night     5.0       S009  \n",
       "9            7.0     Morning     4.0       S010  \n",
       "10           8.5     Morning     4.0       S011  \n",
       "11          12.5       Night     4.0       S012  \n",
       "12           9.0         Day     4.0       S013  \n",
       "13          13.0       Night     5.0       S014  \n",
       "14          14.0       Night     5.0       S015  \n",
       "15          11.0         Day     4.0       S016  "
      ]
     },
     "execution_count": 16,
     "metadata": {},
     "output_type": "execute_result"
    }
   ],
   "source": [
    "OrderDetails"
   ]
  },
  {
   "cell_type": "code",
   "execution_count": 17,
   "id": "e117d885-c16c-4ccb-a580-ba4c7db2bba8",
   "metadata": {},
   "outputs": [
    {
     "data": {
      "text/plain": [
       "Order ID          int64\n",
       "User ID          object\n",
       "Order Date       object\n",
       "Meal Type        object\n",
       "Dish Name        object\n",
       "Order Status     object\n",
       "Amount (USD)    float64\n",
       "Time of Day      object\n",
       "Rating          float64\n",
       "Session ID       object\n",
       "dtype: object"
      ]
     },
     "execution_count": 17,
     "metadata": {},
     "output_type": "execute_result"
    }
   ],
   "source": [
    "#check its Datatypes\n",
    "OrderDetails.dtypes"
   ]
  },
  {
   "cell_type": "code",
   "execution_count": 18,
   "id": "1995bfff-12aa-4a7f-943e-2accd1897b3d",
   "metadata": {},
   "outputs": [
    {
     "data": {
      "text/plain": [
       "Order ID        0\n",
       "User ID         0\n",
       "Order Date      0\n",
       "Meal Type       0\n",
       "Dish Name       0\n",
       "Order Status    0\n",
       "Amount (USD)    0\n",
       "Time of Day     0\n",
       "Rating          2\n",
       "Session ID      0\n",
       "dtype: int64"
      ]
     },
     "execution_count": 18,
     "metadata": {},
     "output_type": "execute_result"
    }
   ],
   "source": [
    "#check for null Values\n",
    "OrderDetails.isnull().sum()"
   ]
  },
  {
   "cell_type": "code",
   "execution_count": 19,
   "id": "0ab216c9-b50a-47d6-9eab-557b960dc587",
   "metadata": {},
   "outputs": [],
   "source": [
    "#Merge Datasets for Comprehensive Analysis\n",
    "merged_data= OrderDetails.merge(CookingSessions, on=[\"Session ID\",\"User ID\",\"Dish Name\",\"Meal Type\"], how=\"outer\")"
   ]
  },
  {
   "cell_type": "code",
   "execution_count": 20,
   "id": "56d51749-584d-4541-aeb5-e8d387072db4",
   "metadata": {},
   "outputs": [],
   "source": [
    "full_data=merged_data.merge(UserDetails, on=\"User ID\", how=\"outer\")"
   ]
  },
  {
   "cell_type": "markdown",
   "id": "63509587-b770-4aed-b716-c377a49a18c1",
   "metadata": {},
   "source": [
    "### Analyze the Relationship Between Cooking Sessions and User Orders"
   ]
  },
  {
   "cell_type": "code",
   "execution_count": 21,
   "id": "04b4ee7d-32a0-4261-a742-2d28c263121e",
   "metadata": {},
   "outputs": [
    {
     "name": "stdout",
     "output_type": "stream",
     "text": [
      "\n",
      "Order Completion Rates by Meal Type:\n",
      "Order Status  Canceled  Completed\n",
      "Meal Type                        \n",
      "Breakfast          0.0      100.0\n",
      "Dinner            12.5       87.5\n",
      "Lunch             20.0       80.0\n"
     ]
    }
   ],
   "source": [
    "print(\"\\nOrder Completion Rates by Meal Type:\")\n",
    "order_completion = OrderDetails.groupby(\"Meal Type\")[\"Order Status\"].value_counts(normalize=True).unstack().fillna(0) * 100\n",
    "print(order_completion)"
   ]
  },
  {
   "cell_type": "markdown",
   "id": "1bb22f3c-ef10-44b3-82c1-7314f1f50ecc",
   "metadata": {},
   "source": [
    "### Average duration for completed sessions "
   ]
  },
  {
   "cell_type": "code",
   "execution_count": 22,
   "id": "83d2c905-602c-4230-a334-f5d505bf9a94",
   "metadata": {},
   "outputs": [
    {
     "name": "stdout",
     "output_type": "stream",
     "text": [
      "\n",
      "Average Duration for Completed Sessions: 30.36 minutes\n"
     ]
    }
   ],
   "source": [
    "completed_sessions = merged_data[merged_data[\"Order Status\"] == \"Completed\"]\n",
    "avg_duration = completed_sessions[\"Duration (mins)\"].mean()\n",
    "print(f\"\\nAverage Duration for Completed Sessions: {avg_duration:.2f} minutes\")"
   ]
  },
  {
   "cell_type": "markdown",
   "id": "48c18b67-da21-4dc8-9036-51be501943f5",
   "metadata": {},
   "source": [
    "### Identified Popular Dishes"
   ]
  },
  {
   "cell_type": "code",
   "execution_count": 23,
   "id": "69190356-6087-41ca-a7ab-bf601acbf4f8",
   "metadata": {},
   "outputs": [
    {
     "name": "stdout",
     "output_type": "stream",
     "text": [
      "\n",
      "Most Popular Dishes:\n",
      "Dish Name\n",
      "Grilled Chicken    4\n",
      "Spaghetti          4\n",
      "Caesar Salad       3\n",
      "Pancakes           2\n",
      "Veggie Burger      2\n",
      "Oatmeal            1\n",
      "Name: Order ID, dtype: int64\n"
     ]
    }
   ],
   "source": [
    "popular_dishes = OrderDetails.groupby(\"Dish Name\")[\"Order ID\"].count().sort_values(ascending=False)\n",
    "print(\"\\nMost Popular Dishes:\")\n",
    "print(popular_dishes)"
   ]
  },
  {
   "cell_type": "markdown",
   "id": "20b72242-c4f4-41f9-90cf-9c7ce893296f",
   "metadata": {},
   "source": [
    "### Demographic Factors Influencing User Behavior"
   ]
  },
  {
   "cell_type": "code",
   "execution_count": 24,
   "id": "f41d4c42-8b8d-4cae-9697-cce8c9f5b5ef",
   "metadata": {},
   "outputs": [
    {
     "name": "stdout",
     "output_type": "stream",
     "text": [
      "\n",
      "Favorite Meal Types by Age Group:\n",
      "Favorite Meal  Breakfast      Dinner      Lunch\n",
      "Age Group                                      \n",
      "<25                  0.0  100.000000   0.000000\n",
      "25-35                0.0   57.142857  42.857143\n",
      "35-45              100.0    0.000000   0.000000\n",
      "45+                  0.0    0.000000   0.000000\n"
     ]
    },
    {
     "name": "stderr",
     "output_type": "stream",
     "text": [
      "C:\\Users\\abhi1\\AppData\\Local\\Temp\\ipykernel_23560\\3896503185.py:3: FutureWarning: The default of observed=False is deprecated and will be changed to True in a future version of pandas. Pass observed=False to retain current behavior or observed=True to adopt the future default and silence this warning.\n",
      "  favorite_meal_by_age = UserDetails.groupby(\"Age Group\")[\"Favorite Meal\"].value_counts(normalize=True).unstack().fillna(0) * 100\n"
     ]
    }
   ],
   "source": [
    "print(\"\\nFavorite Meal Types by Age Group:\")\n",
    "UserDetails[\"Age Group\"] = pd.cut(UserDetails[\"Age\"], bins=[0, 25, 35, 45, 60], labels=[\"<25\", \"25-35\", \"35-45\", \"45+\"])\n",
    "favorite_meal_by_age = UserDetails.groupby(\"Age Group\")[\"Favorite Meal\"].value_counts(normalize=True).unstack().fillna(0) * 100\n",
    "print(favorite_meal_by_age)"
   ]
  },
  {
   "cell_type": "code",
   "execution_count": 25,
   "id": "5c77b9f1-cbb2-4800-87c9-70dd09fc4158",
   "metadata": {},
   "outputs": [
    {
     "data": {
      "image/png": "[encoded data removed]",
      "text/plain": [
       "<Figure size 1000x500 with 1 Axes>"
      ]
     },
     "metadata": {},
     "output_type": "display_data"
    }
   ],
   "source": [
    "plt.figure(figsize=(10, 5))\n",
    "popular_dishes.plot(kind=\"bar\", color=\"skyblue\")\n",
    "plt.title(\"Most Popular Dishes\")\n",
    "plt.xlabel(\"Dish Name\")\n",
    "plt.ylabel(\"Number of Orders\")\n",
    "plt.show()"
   ]
  },
  {
   "cell_type": "markdown",
   "id": "f884bc61-9609-418f-b65e-3f050d87fc51",
   "metadata": {},
   "source": [
    "### User Retention Analysis"
   ]
  },
  {
   "cell_type": "code",
   "execution_count": 26,
   "id": "05b3b226-68a0-4ff7-94ed-ba7c49728d67",
   "metadata": {},
   "outputs": [
    {
     "data": {
      "image/png": "[encoded data removed]",
      "text/plain": [
       "<Figure size 1000x500 with 1 Axes>"
      ]
     },
     "metadata": {},
     "output_type": "display_data"
    }
   ],
   "source": [
    "retention = UserDetails.groupby(\"Registration Date\").size()\n",
    "plt.figure(figsize=(10, 5))\n",
    "retention.plot(kind=\"line\", marker=\"o\", color=\"green\")\n",
    "plt.title(\"User Registration Trend\")\n",
    "plt.xlabel(\"Registration Date\")\n",
    "plt.ylabel(\"Number of Users\")\n",
    "plt.xticks(rotation=45)\n",
    "plt.show()"
   ]
  },
  {
   "cell_type": "markdown",
   "id": "1a03f75c-feb9-4ea4-b9f4-f6615511e761",
   "metadata": {},
   "source": [
    "### Revenue Insights"
   ]
  },
  {
   "cell_type": "code",
   "execution_count": 27,
   "id": "b7a85ca7-dd03-4c9c-8711-912ff3f3f6b7",
   "metadata": {},
   "outputs": [
    {
     "name": "stdout",
     "output_type": "stream",
     "text": [
      "\n",
      "Total Revenue by Meal Type:\n",
      "Meal Type\n",
      "Breakfast     23.5\n",
      "Dinner       106.5\n",
      "Lunch         50.0\n",
      "Name: Amount (USD), dtype: float64\n"
     ]
    }
   ],
   "source": [
    "print(\"\\nTotal Revenue by Meal Type:\")\n",
    "revenue_by_meal = OrderDetails.groupby(\"Meal Type\")[\"Amount (USD)\"].sum()\n",
    "print(revenue_by_meal)"
   ]
  },
  {
   "cell_type": "markdown",
   "id": "3baaccb6-5673-4157-b501-11a353cfacf0",
   "metadata": {},
   "source": [
    "### Rating Trends\n"
   ]
  },
  {
   "cell_type": "code",
   "execution_count": 28,
   "id": "157f2c7e-42c3-452c-8b26-68c55a2788c4",
   "metadata": {},
   "outputs": [
    {
     "name": "stdout",
     "output_type": "stream",
     "text": [
      "\n",
      "Average Rating by Time of Day:\n",
      "Time of Day\n",
      "Day        4.000000\n",
      "Morning    4.000000\n",
      "Night      4.571429\n",
      "Name: Rating, dtype: float64\n"
     ]
    }
   ],
   "source": [
    "rating_trends = merged_data.groupby(\"Time of Day\")[\"Rating\"].mean()\n",
    "print(\"\\nAverage Rating by Time of Day:\")\n",
    "print(rating_trends)"
   ]
  },
  {
   "cell_type": "code",
   "execution_count": 29,
   "id": "90952038-ba4f-40b1-8613-dc541e4ed36e",
   "metadata": {},
   "outputs": [
    {
     "data": {
      "image/png": "[encoded data removed]",
      "text/plain": [
       "<Figure size 800x500 with 1 Axes>"
      ]
     },
     "metadata": {},
     "output_type": "display_data"
    }
   ],
   "source": [
    "plt.figure(figsize=(8, 5))\n",
    "revenue_by_meal.plot(kind=\"pie\", autopct='%1.1f%%', startangle=90, colors=[\"lightcoral\", \"gold\", \"lightblue\", \"lightgreen\"])\n",
    "plt.title(\"Revenue Distribution by Meal Type\")\n",
    "plt.ylabel(\"\")\n",
    "plt.show()"
   ]
  },
  {
   "cell_type": "markdown",
   "id": "74fe4c08-48e8-4391-8a0f-e0bbe1799a30",
   "metadata": {},
   "source": [
    "### Regional Behavior Analysis"
   ]
  },
  {
   "cell_type": "code",
   "execution_count": 30,
   "id": "93fe7f4b-3947-462e-bb09-a8a54038b10e",
   "metadata": {},
   "outputs": [
    {
     "name": "stdout",
     "output_type": "stream",
     "text": [
      "\n",
      "Top Locations for Orders:\n",
      "Location\n",
      "Chicago          15\n",
      "Boston           14\n",
      "New York         12\n",
      "San Francisco    10\n",
      "Seattle           9\n",
      "Los Angeles       8\n",
      "Phoenix           8\n",
      "Austin            7\n",
      "Dallas            6\n",
      "Miami             5\n",
      "Name: Total Orders, dtype: int64\n"
     ]
    }
   ],
   "source": [
    "print(\"\\nTop Locations for Orders:\")\n",
    "top_locations = UserDetails.groupby(\"Location\")[\"Total Orders\"].sum().sort_values(ascending=False)\n",
    "print(top_locations)"
   ]
  },
  {
   "cell_type": "code",
   "execution_count": 31,
   "id": "de80d3cf-58e5-40e3-9593-37f70c3742ba",
   "metadata": {},
   "outputs": [
    {
     "data": {
      "image/png": "[encoded data removed]",
      "text/plain": [
       "<Figure size 1000x500 with 1 Axes>"
      ]
     },
     "metadata": {},
     "output_type": "display_data"
    }
   ],
   "source": [
    "plt.figure(figsize=(10, 5))\n",
    "top_locations.head(10).plot(kind=\"bar\", color=\"orange\")\n",
    "plt.title(\"Top Locations for Orders\")\n",
    "plt.xlabel(\"Location\")\n",
    "plt.ylabel(\"Total Orders\")\n",
    "plt.show()"
   ]
  },
  {
   "cell_type": "markdown",
   "id": "6668b2ae-f456-4557-bbea-b4ec22410a40",
   "metadata": {},
   "source": [
    "### Session Duration Analysis by Dish"
   ]
  },
  {
   "cell_type": "code",
   "execution_count": 32,
   "id": "aa2071a9-025a-4cb7-983f-117758aa9254",
   "metadata": {},
   "outputs": [
    {
     "name": "stdout",
     "output_type": "stream",
     "text": [
      "\n",
      "Average Session Duration by Dish:\n",
      "Dish Name\n",
      "Grilled Chicken    42.500000\n",
      "Spaghetti          35.000000\n",
      "Pancakes           30.000000\n",
      "Caesar Salad       21.666667\n",
      "Veggie Burger      20.000000\n",
      "Oatmeal            10.000000\n",
      "Name: Duration (mins), dtype: float64\n"
     ]
    }
   ],
   "source": [
    "session_duration = CookingSessions.groupby(\"Dish Name\")[\"Duration (mins)\"].mean().sort_values(ascending=False)\n",
    "print(\"\\nAverage Session Duration by Dish:\")\n",
    "print(session_duration)"
   ]
  },
  {
   "cell_type": "code",
   "execution_count": 33,
   "id": "b4632481-bf51-4742-9426-c3ce0f6e5c1f",
   "metadata": {},
   "outputs": [
    {
     "data": {
      "image/png": "[encoded data removed]",
      "text/plain": [
       "<Figure size 1000x500 with 1 Axes>"
      ]
     },
     "metadata": {},
     "output_type": "display_data"
    }
   ],
   "source": [
    "plt.figure(figsize=(10, 5))\n",
    "session_duration.plot(kind=\"bar\", color=\"purple\")\n",
    "plt.title(\"Average Session Duration by Dish\")\n",
    "plt.xlabel(\"Dish Name\")\n",
    "plt.ylabel(\"Duration (mins)\")\n",
    "plt.show()"
   ]
  },
  {
   "cell_type": "code",
   "execution_count": null,
   "id": "ad4136a2-f352-4c46-ab1f-05b5f4e1919a",
   "metadata": {},
   "outputs": [],
   "source": []
  }
 ],
 "metadata": {
  "kernelspec": {
   "display_name": "Python 3 (ipykernel)",
   "language": "python",
   "name": "python3"
  },
  "language_info": {
   "codemirror_mode": {
    "name": "ipython",
    "version": 3
   },
   "file_extension": ".py",
   "mimetype": "text/x-python",
   "name": "python",
   "nbconvert_exporter": "python",
   "pygments_lexer": "ipython3",
   "version": "3.12.4"
  }
 },
 "nbformat": 4,
 "nbformat_minor": 5
}
